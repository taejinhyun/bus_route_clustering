{
 "cells": [
  {
   "cell_type": "markdown",
   "metadata": {},
   "source": [
    "## 필요한 패키지들을 Import 합니다."
   ]
  },
  {
   "cell_type": "code",
   "execution_count": 2,
   "metadata": {},
   "outputs": [],
   "source": [
    "import pandas as pd\n",
    "from pandas import Series,DataFrame\n",
    "import numpy as np\n",
    "from sklearn.decomposition import PCA\n",
    "from sklearn.preprocessing import StandardScaler\n",
    "from sklearn.cluster import KMeans\n",
    "\n",
    "from scipy.spatial import distance\n",
    "from scipy.spatial.distance import cdist, pdist\n",
    "from sklearn.metrics import euclidean_distances\n",
    "from sklearn.metrics import silhouette_score\n",
    "\n",
    "# For Visualization\n",
    "import matplotlib.pyplot as plt\n",
    "import matplotlib\n",
    "from math import sqrt\n",
    "from mpl_toolkits.mplot3d import Axes3D\n",
    "import seaborn as sns\n",
    "%matplotlib inline"
   ]
  },
  {
   "cell_type": "markdown",
   "metadata": {},
   "source": [
    "## 데이터를 불러와 필요한 열만 추출 후 jeju_df에 저장합니다.\n",
    "20대 남성, 여성만 추출하여 합하고, 유동인구비율을 제외한 유동인구만 추출합니다."
   ]
  },
  {
   "cell_type": "code",
   "execution_count": 3,
   "metadata": {},
   "outputs": [],
   "source": [
    "df=pd.read_csv('data.csv',encoding='cp949')"
   ]
  },
  {
   "cell_type": "code",
   "execution_count": 4,
   "metadata": {},
   "outputs": [
    {
     "data": {
      "text/html": [
       "<div>\n",
       "<style scoped>\n",
       "    .dataframe tbody tr th:only-of-type {\n",
       "        vertical-align: middle;\n",
       "    }\n",
       "\n",
       "    .dataframe tbody tr th {\n",
       "        vertical-align: top;\n",
       "    }\n",
       "\n",
       "    .dataframe thead th {\n",
       "        text-align: right;\n",
       "    }\n",
       "</style>\n",
       "<table border=\"1\" class=\"dataframe\">\n",
       "  <thead>\n",
       "    <tr style=\"text-align: right;\">\n",
       "      <th></th>\n",
       "      <th>direction</th>\n",
       "      <th>10M</th>\n",
       "      <th>20M</th>\n",
       "      <th>30M</th>\n",
       "      <th>40M</th>\n",
       "      <th>50M</th>\n",
       "      <th>60M</th>\n",
       "      <th>10F</th>\n",
       "      <th>20F</th>\n",
       "      <th>30F</th>\n",
       "      <th>40F</th>\n",
       "      <th>50F</th>\n",
       "      <th>60F</th>\n",
       "    </tr>\n",
       "  </thead>\n",
       "  <tbody>\n",
       "    <tr>\n",
       "      <th>0</th>\n",
       "      <td>다다06A00A</td>\n",
       "      <td>26.18</td>\n",
       "      <td>155.23</td>\n",
       "      <td>301.76</td>\n",
       "      <td>376.38</td>\n",
       "      <td>295.98</td>\n",
       "      <td>130.88</td>\n",
       "      <td>26.13</td>\n",
       "      <td>155.98</td>\n",
       "      <td>245.56</td>\n",
       "      <td>249.72</td>\n",
       "      <td>188.04</td>\n",
       "      <td>123.29</td>\n",
       "    </tr>\n",
       "    <tr>\n",
       "      <th>1</th>\n",
       "      <td>다다06A02D</td>\n",
       "      <td>1.44</td>\n",
       "      <td>7.93</td>\n",
       "      <td>20.27</td>\n",
       "      <td>26.37</td>\n",
       "      <td>23.49</td>\n",
       "      <td>9.49</td>\n",
       "      <td>1.54</td>\n",
       "      <td>9.20</td>\n",
       "      <td>16.31</td>\n",
       "      <td>16.49</td>\n",
       "      <td>15.39</td>\n",
       "      <td>6.68</td>\n",
       "    </tr>\n",
       "    <tr>\n",
       "      <th>2</th>\n",
       "      <td>다다00C00D</td>\n",
       "      <td>0.92</td>\n",
       "      <td>2.31</td>\n",
       "      <td>11.85</td>\n",
       "      <td>14.99</td>\n",
       "      <td>10.62</td>\n",
       "      <td>4.25</td>\n",
       "      <td>0.53</td>\n",
       "      <td>2.20</td>\n",
       "      <td>10.66</td>\n",
       "      <td>8.74</td>\n",
       "      <td>6.29</td>\n",
       "      <td>2.51</td>\n",
       "    </tr>\n",
       "    <tr>\n",
       "      <th>3</th>\n",
       "      <td>나나98C73A</td>\n",
       "      <td>3.25</td>\n",
       "      <td>8.59</td>\n",
       "      <td>16.52</td>\n",
       "      <td>15.66</td>\n",
       "      <td>11.74</td>\n",
       "      <td>7.15</td>\n",
       "      <td>4.00</td>\n",
       "      <td>12.02</td>\n",
       "      <td>17.82</td>\n",
       "      <td>12.84</td>\n",
       "      <td>10.80</td>\n",
       "      <td>7.21</td>\n",
       "    </tr>\n",
       "    <tr>\n",
       "      <th>4</th>\n",
       "      <td>나나98B74A</td>\n",
       "      <td>0.60</td>\n",
       "      <td>2.01</td>\n",
       "      <td>3.89</td>\n",
       "      <td>4.17</td>\n",
       "      <td>3.40</td>\n",
       "      <td>1.98</td>\n",
       "      <td>0.78</td>\n",
       "      <td>2.78</td>\n",
       "      <td>3.92</td>\n",
       "      <td>2.84</td>\n",
       "      <td>2.72</td>\n",
       "      <td>1.78</td>\n",
       "    </tr>\n",
       "  </tbody>\n",
       "</table>\n",
       "</div>"
      ],
      "text/plain": [
       "  direction    10M     20M     30M     40M     50M     60M    10F     20F  \\\n",
       "0  다다06A00A  26.18  155.23  301.76  376.38  295.98  130.88  26.13  155.98   \n",
       "1  다다06A02D   1.44    7.93   20.27   26.37   23.49    9.49   1.54    9.20   \n",
       "2  다다00C00D   0.92    2.31   11.85   14.99   10.62    4.25   0.53    2.20   \n",
       "3  나나98C73A   3.25    8.59   16.52   15.66   11.74    7.15   4.00   12.02   \n",
       "4  나나98B74A   0.60    2.01    3.89    4.17    3.40    1.98   0.78    2.78   \n",
       "\n",
       "      30F     40F     50F     60F  \n",
       "0  245.56  249.72  188.04  123.29  \n",
       "1   16.31   16.49   15.39    6.68  \n",
       "2   10.66    8.74    6.29    2.51  \n",
       "3   17.82   12.84   10.80    7.21  \n",
       "4    3.92    2.84    2.72    1.78  "
      ]
     },
     "execution_count": 4,
     "metadata": {},
     "output_type": "execute_result"
    }
   ],
   "source": [
    "df.head()"
   ]
  },
  {
   "cell_type": "code",
   "execution_count": 25,
   "metadata": {},
   "outputs": [],
   "source": [
    "jeju_df=pd.DataFrame()"
   ]
  },
  {
   "cell_type": "code",
   "execution_count": 26,
   "metadata": {},
   "outputs": [],
   "source": [
    "jeju_df['floating_pop']=df['20M']+df['20F']"
   ]
  },
  {
   "cell_type": "code",
   "execution_count": 27,
   "metadata": {},
   "outputs": [
    {
     "data": {
      "text/html": [
       "<div>\n",
       "<style scoped>\n",
       "    .dataframe tbody tr th:only-of-type {\n",
       "        vertical-align: middle;\n",
       "    }\n",
       "\n",
       "    .dataframe tbody tr th {\n",
       "        vertical-align: top;\n",
       "    }\n",
       "\n",
       "    .dataframe thead th {\n",
       "        text-align: right;\n",
       "    }\n",
       "</style>\n",
       "<table border=\"1\" class=\"dataframe\">\n",
       "  <thead>\n",
       "    <tr style=\"text-align: right;\">\n",
       "      <th></th>\n",
       "      <th>floating_pop</th>\n",
       "    </tr>\n",
       "  </thead>\n",
       "  <tbody>\n",
       "    <tr>\n",
       "      <th>0</th>\n",
       "      <td>311.21</td>\n",
       "    </tr>\n",
       "    <tr>\n",
       "      <th>1</th>\n",
       "      <td>17.13</td>\n",
       "    </tr>\n",
       "    <tr>\n",
       "      <th>2</th>\n",
       "      <td>4.51</td>\n",
       "    </tr>\n",
       "    <tr>\n",
       "      <th>3</th>\n",
       "      <td>20.61</td>\n",
       "    </tr>\n",
       "    <tr>\n",
       "      <th>4</th>\n",
       "      <td>4.79</td>\n",
       "    </tr>\n",
       "  </tbody>\n",
       "</table>\n",
       "</div>"
      ],
      "text/plain": [
       "   floating_pop\n",
       "0        311.21\n",
       "1         17.13\n",
       "2          4.51\n",
       "3         20.61\n",
       "4          4.79"
      ]
     },
     "execution_count": 27,
     "metadata": {},
     "output_type": "execute_result"
    }
   ],
   "source": [
    "jeju_df.head()"
   ]
  },
  {
   "cell_type": "markdown",
   "metadata": {},
   "source": [
    "### 250m 격자좌표를 x,y 좌표로 변환하기 위해 파일을 열고 해당 격자좌표에 맞는 x,y축을 jeju_df에 저장합니다."
   ]
  },
  {
   "cell_type": "code",
   "execution_count": 28,
   "metadata": {},
   "outputs": [],
   "source": [
    "dir_df=pd.read_csv('directions.csv',encoding='cp949')"
   ]
  },
  {
   "cell_type": "code",
   "execution_count": 29,
   "metadata": {},
   "outputs": [
    {
     "data": {
      "text/html": [
       "<div>\n",
       "<style scoped>\n",
       "    .dataframe tbody tr th:only-of-type {\n",
       "        vertical-align: middle;\n",
       "    }\n",
       "\n",
       "    .dataframe tbody tr th {\n",
       "        vertical-align: top;\n",
       "    }\n",
       "\n",
       "    .dataframe thead th {\n",
       "        text-align: right;\n",
       "    }\n",
       "</style>\n",
       "<table border=\"1\" class=\"dataframe\">\n",
       "  <thead>\n",
       "    <tr style=\"text-align: right;\">\n",
       "      <th></th>\n",
       "      <th>x</th>\n",
       "      <th>y</th>\n",
       "      <th>direction</th>\n",
       "    </tr>\n",
       "  </thead>\n",
       "  <tbody>\n",
       "    <tr>\n",
       "      <th>0</th>\n",
       "      <td>884875.0001</td>\n",
       "      <td>1458875</td>\n",
       "      <td>나나84D58D</td>\n",
       "    </tr>\n",
       "    <tr>\n",
       "      <th>1</th>\n",
       "      <td>885125.0001</td>\n",
       "      <td>1458875</td>\n",
       "      <td>나나85D58A</td>\n",
       "    </tr>\n",
       "    <tr>\n",
       "      <th>2</th>\n",
       "      <td>884875.0001</td>\n",
       "      <td>1459125</td>\n",
       "      <td>나나84A59D</td>\n",
       "    </tr>\n",
       "    <tr>\n",
       "      <th>3</th>\n",
       "      <td>885125.0001</td>\n",
       "      <td>1459125</td>\n",
       "      <td>나나85A59A</td>\n",
       "    </tr>\n",
       "    <tr>\n",
       "      <th>4</th>\n",
       "      <td>884875.0001</td>\n",
       "      <td>1459375</td>\n",
       "      <td>나나84B59D</td>\n",
       "    </tr>\n",
       "  </tbody>\n",
       "</table>\n",
       "</div>"
      ],
      "text/plain": [
       "             x        y direction\n",
       "0  884875.0001  1458875  나나84D58D\n",
       "1  885125.0001  1458875  나나85D58A\n",
       "2  884875.0001  1459125  나나84A59D\n",
       "3  885125.0001  1459125  나나85A59A\n",
       "4  884875.0001  1459375  나나84B59D"
      ]
     },
     "execution_count": 29,
     "metadata": {},
     "output_type": "execute_result"
    }
   ],
   "source": [
    "dir_df.head()"
   ]
  },
  {
   "cell_type": "code",
   "execution_count": 30,
   "metadata": {},
   "outputs": [],
   "source": [
    "x=[dir_df.x[df.direction[i] == dir_df.direction.values].values[0] for i in range(0,df.shape[0])]"
   ]
  },
  {
   "cell_type": "code",
   "execution_count": 31,
   "metadata": {},
   "outputs": [],
   "source": [
    "y=[dir_df.y[df.direction[i] == dir_df.direction.values].values[0] for i in range(0,df.shape[0])]"
   ]
  },
  {
   "cell_type": "code",
   "execution_count": 32,
   "metadata": {},
   "outputs": [],
   "source": [
    "jeju_df['x']=x\n",
    "jeju_df['y']=y"
   ]
  },
  {
   "cell_type": "markdown",
   "metadata": {},
   "source": [
    "## 유동인구(20대 남성+여성), x 위치, y위치로 이루어진 데이터프레임이 생성됬습니다."
   ]
  },
  {
   "cell_type": "code",
   "execution_count": 33,
   "metadata": {
    "scrolled": true
   },
   "outputs": [
    {
     "data": {
      "text/html": [
       "<div>\n",
       "<style scoped>\n",
       "    .dataframe tbody tr th:only-of-type {\n",
       "        vertical-align: middle;\n",
       "    }\n",
       "\n",
       "    .dataframe tbody tr th {\n",
       "        vertical-align: top;\n",
       "    }\n",
       "\n",
       "    .dataframe thead th {\n",
       "        text-align: right;\n",
       "    }\n",
       "</style>\n",
       "<table border=\"1\" class=\"dataframe\">\n",
       "  <thead>\n",
       "    <tr style=\"text-align: right;\">\n",
       "      <th></th>\n",
       "      <th>floating_pop</th>\n",
       "      <th>x</th>\n",
       "      <th>y</th>\n",
       "    </tr>\n",
       "  </thead>\n",
       "  <tbody>\n",
       "    <tr>\n",
       "      <th>0</th>\n",
       "      <td>311.21</td>\n",
       "      <td>906125.0001</td>\n",
       "      <td>1500125</td>\n",
       "    </tr>\n",
       "    <tr>\n",
       "      <th>1</th>\n",
       "      <td>17.13</td>\n",
       "      <td>906875.0001</td>\n",
       "      <td>1502125</td>\n",
       "    </tr>\n",
       "    <tr>\n",
       "      <th>2</th>\n",
       "      <td>4.51</td>\n",
       "      <td>900875.0001</td>\n",
       "      <td>1500625</td>\n",
       "    </tr>\n",
       "    <tr>\n",
       "      <th>3</th>\n",
       "      <td>20.61</td>\n",
       "      <td>898125.0001</td>\n",
       "      <td>1473625</td>\n",
       "    </tr>\n",
       "    <tr>\n",
       "      <th>4</th>\n",
       "      <td>4.79</td>\n",
       "      <td>898125.0001</td>\n",
       "      <td>1474375</td>\n",
       "    </tr>\n",
       "  </tbody>\n",
       "</table>\n",
       "</div>"
      ],
      "text/plain": [
       "   floating_pop            x        y\n",
       "0        311.21  906125.0001  1500125\n",
       "1         17.13  906875.0001  1502125\n",
       "2          4.51  900875.0001  1500625\n",
       "3         20.61  898125.0001  1473625\n",
       "4          4.79  898125.0001  1474375"
      ]
     },
     "execution_count": 33,
     "metadata": {},
     "output_type": "execute_result"
    }
   ],
   "source": [
    "jeju_df.head()"
   ]
  },
  {
   "cell_type": "markdown",
   "metadata": {},
   "source": [
    "## Elbow_Method 클래스를 정의합니다.\n",
    "### 이 클래스는 적당한 군집 수를 알아보기 위함이며, 군집 개수별로 편차제곱합, 설명력을 그래프로 나타냅니다."
   ]
  },
  {
   "cell_type": "code",
   "execution_count": 57,
   "metadata": {},
   "outputs": [],
   "source": [
    "def Elbow_Method(data):\n",
    "    K = range(10,31,5) # 10~30까지 군집개수를 5개 단위로 검증합니다. (10,15,20...30)\n",
    "    KM = [KMeans(n_clusters=k).fit(jeju_df) for k in K]\n",
    "    centroids = [k.cluster_centers_ for k in KM]\n",
    "    D_k = [cdist(data, cent, 'euclidean') for cent in centroids] # 중심으로부터 유클리디안 거리를 사용합니다.\n",
    "    cIdx = [np.argmin(D,axis=1) for D in D_k]\n",
    "    dist = [np.min(D,axis=1) for D in D_k]\n",
    "    avgWithinSS = [sum(d)/data.shape[0] for d in dist]\n",
    "    # Total with-in sum of square\n",
    "    wcss = [sum(d**2) for d in dist]\n",
    "    tss = sum(pdist(data)**2)/data.shape[0]\n",
    "    bss = tss-wcss\n",
    "    \n",
    "\n",
    "    # elbow curve\n",
    "    fig = plt.figure() # 그래프를 생성합니다.\n",
    "    ax = fig.add_subplot(111)\n",
    "    \n",
    "    kIdx = 1\n",
    "    ax.plot(K, avgWithinSS, 'b*-')\n",
    "    ax.plot(K[kIdx], avgWithinSS[kIdx], marker='o', markersize=10, \n",
    "    markeredgewidth=2, markeredgecolor='r', markerfacecolor='None')\n",
    "    \n",
    "    kIdx = 2\n",
    "    ax.plot(K, avgWithinSS, 'b*-')\n",
    "    ax.plot(K[kIdx], avgWithinSS[kIdx], marker='o', markersize=10, \n",
    "    markeredgewidth=2, markeredgecolor='b', markerfacecolor='None')\n",
    "    \n",
    "    kIdx = 3\n",
    "    ax.plot(K, avgWithinSS, 'b*-')\n",
    "    ax.plot(K[kIdx], avgWithinSS[kIdx], marker='o', markersize=10, \n",
    "    markeredgewidth=2, markeredgecolor='g', markerfacecolor='None')  \n",
    "    \n",
    "    kIdx = 4\n",
    "    ax.plot(K, avgWithinSS, 'b*-')\n",
    "    ax.plot(K[kIdx], avgWithinSS[kIdx], marker='o', markersize=10, \n",
    "    markeredgewidth=2, markeredgecolor='y', markerfacecolor='None') \n",
    "    \n",
    "    plt.grid(True)\n",
    "    plt.xlabel('Number of clusters')\n",
    "    plt.ylabel('Average within-cluster sum of squares')\n",
    "    plt.title('Elbow for KMeans clustering')\n",
    "\n",
    "    fig = plt.figure()\n",
    "    ax = fig.add_subplot(111)\n",
    "    ax.plot(K, bss/tss*100, 'b*-')\n",
    "    plt.grid(True)\n",
    "    plt.xlabel('Number of clusters')\n",
    "    plt.ylabel('Percentage of variance explained')\n",
    "    plt.title('Elbow for KMeans clustering')"
   ]
  },
  {
   "cell_type": "markdown",
   "metadata": {},
   "source": [
    "## 첫 번째 그래프는 군집 개수(X축)별 편차제곱합(y축)입니다.\n",
    "### 변인 값과 평균 사이의 편차를 제곱한 값들의 총합으로 y축 값이 낮을 수록 좋은 개수를 의미합니다.\n",
    "\n",
    "## 두 번째 그래프는 군집 개수(X축)별 설명력(y축)입니다.\n",
    "### 설명력을 나타내는 그래프로 y축 값이 높을 수록 좋은 개수를 의미합니다."
   ]
  },
  {
   "cell_type": "code",
   "execution_count": 58,
   "metadata": {},
   "outputs": [
    {
     "data": {
      "image/png": "[encoded data removed]",
      "text/plain": [
       "<matplotlib.figure.Figure at 0x17f3aff3080>"
      ]
     },
     "metadata": {},
     "output_type": "display_data"
    },
    {
     "data": {
      "image/png": "[encoded data removed]",
      "text/plain": [
       "<matplotlib.figure.Figure at 0x17f21e7f6a0>"
      ]
     },
     "metadata": {},
     "output_type": "display_data"
    }
   ],
   "source": [
    "Elbow_Method(jeju_df)"
   ]
  },
  {
   "cell_type": "markdown",
   "metadata": {},
   "source": [
    "## 3차원 공간에서 군집을 확인하기 위해 3차원 공간을 생성하고 데이터를 변환해줍니다.\n",
    "\n",
    "#### jeju_df가 (유동인구,x,y) 3차원 데이터이기 때문입니다."
   ]
  },
  {
   "cell_type": "code",
   "execution_count": 50,
   "metadata": {},
   "outputs": [],
   "source": [
    "scaler = StandardScaler().fit(jeju_df)\n",
    "Values_Scaled = scaler.transform(jeju_df)"
   ]
  },
  {
   "cell_type": "code",
   "execution_count": 51,
   "metadata": {},
   "outputs": [],
   "source": [
    "Values_Reduced_3D = PCA(n_components=3).fit_transform(Values_Scaled)"
   ]
  },
  {
   "cell_type": "markdown",
   "metadata": {},
   "source": [
    "## 아래 그래프는 3차원 공간에서 30개의 군집으로 나눈 결과를 볼 수 있습니다.\n",
    "\n",
    "### 같은 색깔이 한 군집을 나타내며 x표시는 그 군집에 중심에 해당하는 값입니다."
   ]
  },
  {
   "cell_type": "code",
   "execution_count": 54,
   "metadata": {
    "scrolled": true
   },
   "outputs": [
    {
     "data": {
      "text/plain": [
       "[]"
      ]
     },
     "execution_count": 54,
     "metadata": {},
     "output_type": "execute_result"
    },
    {
     "data": {
      "image/png": "[encoded data removed]",
      "text/plain": [
       "<matplotlib.figure.Figure at 0x17f4ea6f2b0>"
      ]
     },
     "metadata": {},
     "output_type": "display_data"
    }
   ],
   "source": [
    "fig = plt.figure(1, figsize=(8, 6))\n",
    "ax = Axes3D(fig, elev=-150, azim=250)\n",
    "kmeans = KMeans(init='k-means++', n_clusters=30, n_init=10)\n",
    "kmeans.fit(Values_Reduced_3D)\n",
    "ax.scatter(Values_Reduced_3D[:, 0], Values_Reduced_3D[:, 1], Values_Reduced_3D[:, 2], \n",
    "           c=kmeans.labels_.astype(np.float)\n",
    "          )\n",
    "centroids = kmeans.cluster_centers_\n",
    "ax.scatter(centroids[:, 0], centroids[:, 1],  centroids[:, 2],\n",
    "            marker='x', s=169, linewidths=3, \n",
    "           c='r')\n",
    "ax.set_title('K-means clustering (PCA-reduced data)\\n'\n",
    "             'Centroids are marked with red cross')\n",
    "ax.set_xlabel(\"PC-1\")\n",
    "ax.w_xaxis.set_ticklabels([])\n",
    "ax.set_ylabel(\"PC-2\")\n",
    "ax.w_yaxis.set_ticklabels([])\n",
    "ax.set_zlabel(\"PC-3\")\n",
    "ax.w_zaxis.set_ticklabels([])"
   ]
  },
  {
   "cell_type": "markdown",
   "metadata": {},
   "source": [
    "## 군집 케이스와 중심 값을 저장하여 csv로 저장합니다."
   ]
  },
  {
   "cell_type": "code",
   "execution_count": 59,
   "metadata": {},
   "outputs": [],
   "source": [
    "kmeans = KMeans(n_clusters=30, random_state=0).fit(jeju_df)"
   ]
  },
  {
   "cell_type": "code",
   "execution_count": 64,
   "metadata": {},
   "outputs": [],
   "source": [
    "jeju_df['cl_label']=kmeans.labels_"
   ]
  },
  {
   "cell_type": "code",
   "execution_count": 66,
   "metadata": {},
   "outputs": [
    {
     "data": {
      "text/html": [
       "<div>\n",
       "<style scoped>\n",
       "    .dataframe tbody tr th:only-of-type {\n",
       "        vertical-align: middle;\n",
       "    }\n",
       "\n",
       "    .dataframe tbody tr th {\n",
       "        vertical-align: top;\n",
       "    }\n",
       "\n",
       "    .dataframe thead th {\n",
       "        text-align: right;\n",
       "    }\n",
       "</style>\n",
       "<table border=\"1\" class=\"dataframe\">\n",
       "  <thead>\n",
       "    <tr style=\"text-align: right;\">\n",
       "      <th></th>\n",
       "      <th>floating_pop</th>\n",
       "      <th>x</th>\n",
       "      <th>y</th>\n",
       "      <th>cl_label</th>\n",
       "    </tr>\n",
       "  </thead>\n",
       "  <tbody>\n",
       "    <tr>\n",
       "      <th>0</th>\n",
       "      <td>311.21</td>\n",
       "      <td>906125.0001</td>\n",
       "      <td>1500125</td>\n",
       "      <td>8</td>\n",
       "    </tr>\n",
       "    <tr>\n",
       "      <th>1</th>\n",
       "      <td>17.13</td>\n",
       "      <td>906875.0001</td>\n",
       "      <td>1502125</td>\n",
       "      <td>8</td>\n",
       "    </tr>\n",
       "    <tr>\n",
       "      <th>2</th>\n",
       "      <td>4.51</td>\n",
       "      <td>900875.0001</td>\n",
       "      <td>1500625</td>\n",
       "      <td>11</td>\n",
       "    </tr>\n",
       "    <tr>\n",
       "      <th>3</th>\n",
       "      <td>20.61</td>\n",
       "      <td>898125.0001</td>\n",
       "      <td>1473625</td>\n",
       "      <td>23</td>\n",
       "    </tr>\n",
       "    <tr>\n",
       "      <th>4</th>\n",
       "      <td>4.79</td>\n",
       "      <td>898125.0001</td>\n",
       "      <td>1474375</td>\n",
       "      <td>23</td>\n",
       "    </tr>\n",
       "  </tbody>\n",
       "</table>\n",
       "</div>"
      ],
      "text/plain": [
       "   floating_pop            x        y  cl_label\n",
       "0        311.21  906125.0001  1500125         8\n",
       "1         17.13  906875.0001  1502125         8\n",
       "2          4.51  900875.0001  1500625        11\n",
       "3         20.61  898125.0001  1473625        23\n",
       "4          4.79  898125.0001  1474375        23"
      ]
     },
     "execution_count": 66,
     "metadata": {},
     "output_type": "execute_result"
    }
   ],
   "source": [
    "jeju_df.head()"
   ]
  },
  {
   "cell_type": "code",
   "execution_count": 73,
   "metadata": {},
   "outputs": [],
   "source": [
    "cl_center=pd.DataFrame(kmeans.cluster_centers_, columns=['floating_pop','x','y'])"
   ]
  },
  {
   "cell_type": "code",
   "execution_count": 74,
   "metadata": {},
   "outputs": [
    {
     "data": {
      "text/html": [
       "<div>\n",
       "<style scoped>\n",
       "    .dataframe tbody tr th:only-of-type {\n",
       "        vertical-align: middle;\n",
       "    }\n",
       "\n",
       "    .dataframe tbody tr th {\n",
       "        vertical-align: top;\n",
       "    }\n",
       "\n",
       "    .dataframe thead th {\n",
       "        text-align: right;\n",
       "    }\n",
       "</style>\n",
       "<table border=\"1\" class=\"dataframe\">\n",
       "  <thead>\n",
       "    <tr style=\"text-align: right;\">\n",
       "      <th></th>\n",
       "      <th>floating_pop</th>\n",
       "      <th>x</th>\n",
       "      <th>y</th>\n",
       "    </tr>\n",
       "  </thead>\n",
       "  <tbody>\n",
       "    <tr>\n",
       "      <th>0</th>\n",
       "      <td>0.657807</td>\n",
       "      <td>896426.807329</td>\n",
       "      <td>1.491420e+06</td>\n",
       "    </tr>\n",
       "    <tr>\n",
       "      <th>1</th>\n",
       "      <td>0.426199</td>\n",
       "      <td>919361.111211</td>\n",
       "      <td>1.488624e+06</td>\n",
       "    </tr>\n",
       "    <tr>\n",
       "      <th>2</th>\n",
       "      <td>0.959607</td>\n",
       "      <td>939046.478160</td>\n",
       "      <td>1.502919e+06</td>\n",
       "    </tr>\n",
       "    <tr>\n",
       "      <th>3</th>\n",
       "      <td>3.099387</td>\n",
       "      <td>913194.853041</td>\n",
       "      <td>1.476153e+06</td>\n",
       "    </tr>\n",
       "    <tr>\n",
       "      <th>4</th>\n",
       "      <td>1.054482</td>\n",
       "      <td>890376.273445</td>\n",
       "      <td>1.476768e+06</td>\n",
       "    </tr>\n",
       "  </tbody>\n",
       "</table>\n",
       "</div>"
      ],
      "text/plain": [
       "   floating_pop              x             y\n",
       "0      0.657807  896426.807329  1.491420e+06\n",
       "1      0.426199  919361.111211  1.488624e+06\n",
       "2      0.959607  939046.478160  1.502919e+06\n",
       "3      3.099387  913194.853041  1.476153e+06\n",
       "4      1.054482  890376.273445  1.476768e+06"
      ]
     },
     "execution_count": 74,
     "metadata": {},
     "output_type": "execute_result"
    }
   ],
   "source": [
    "cl_center.head()"
   ]
  },
  {
   "cell_type": "code",
   "execution_count": 75,
   "metadata": {},
   "outputs": [],
   "source": [
    "jeju_df.to_csv('cl_jeju.csv')"
   ]
  },
  {
   "cell_type": "code",
   "execution_count": 76,
   "metadata": {},
   "outputs": [],
   "source": [
    "cl_center.to_csv('cl_center.csv')"
   ]
  },
  {
   "cell_type": "code",
   "execution_count": null,
   "metadata": {},
   "outputs": [],
   "source": []
  }
 ],
 "metadata": {
  "kernelspec": {
   "display_name": "Python 3",
   "language": "python",
   "name": "python3"
  },
  "language_info": {
   "codemirror_mode": {
    "name": "ipython",
    "version": 3
   },
   "file_extension": ".py",
   "mimetype": "text/x-python",
   "name": "python",
   "nbconvert_exporter": "python",
   "pygments_lexer": "ipython3",
   "version": "3.6.4"
  }
 },
 "nbformat": 4,
 "nbformat_minor": 2
}
